{
  "nbformat": 4,
  "nbformat_minor": 0,
  "metadata": {
    "colab": {
      "provenance": []
    },
    "kernelspec": {
      "name": "python3",
      "display_name": "Python 3"
    },
    "language_info": {
      "name": "python"
    }
  },
  "cells": [
    {
      "cell_type": "markdown",
      "source": [
        "# **Agent Trained using Random Walk**"
      ],
      "metadata": {
        "id": "irPLbTOh9R-1"
      }
    },
    {
      "cell_type": "code",
      "execution_count": 1,
      "metadata": {
        "colab": {
          "base_uri": "https://localhost:8080/"
        },
        "id": "sHtQa-8h1v68",
        "outputId": "ace9d784-f2ba-4773-8ecb-46ba3e88cef5"
      },
      "outputs": [
        {
          "output_type": "stream",
          "name": "stdout",
          "text": [
            "Collecting gymnasium\n",
            "  Downloading gymnasium-0.29.1-py3-none-any.whl (953 kB)\n",
            "\u001b[2K     \u001b[90m━━━━━━━━━━━━━━━━━━━━━━━━━━━━━━━━━━━━━━━━\u001b[0m \u001b[32m953.9/953.9 kB\u001b[0m \u001b[31m7.8 MB/s\u001b[0m eta \u001b[36m0:00:00\u001b[0m\n",
            "\u001b[?25hRequirement already satisfied: numpy>=1.21.0 in /usr/local/lib/python3.10/dist-packages (from gymnasium) (1.23.5)\n",
            "Requirement already satisfied: cloudpickle>=1.2.0 in /usr/local/lib/python3.10/dist-packages (from gymnasium) (2.2.1)\n",
            "Requirement already satisfied: typing-extensions>=4.3.0 in /usr/local/lib/python3.10/dist-packages (from gymnasium) (4.5.0)\n",
            "Collecting farama-notifications>=0.0.1 (from gymnasium)\n",
            "  Downloading Farama_Notifications-0.0.4-py3-none-any.whl (2.5 kB)\n",
            "Installing collected packages: farama-notifications, gymnasium\n",
            "Successfully installed farama-notifications-0.0.4 gymnasium-0.29.1\n"
          ]
        }
      ],
      "source": [
        "pip install gymnasium"
      ]
    },
    {
      "cell_type": "code",
      "source": [
        "pip install pygame"
      ],
      "metadata": {
        "colab": {
          "base_uri": "https://localhost:8080/"
        },
        "id": "_gJYBnPR16XV",
        "outputId": "fcd901b8-c6b5-4bd0-aaaf-1036b9c23627"
      },
      "execution_count": 2,
      "outputs": [
        {
          "output_type": "stream",
          "name": "stdout",
          "text": [
            "Requirement already satisfied: pygame in /usr/local/lib/python3.10/dist-packages (2.5.2)\n"
          ]
        }
      ]
    },
    {
      "cell_type": "code",
      "source": [
        "import gymnasium as gym"
      ],
      "metadata": {
        "id": "4XzEoelC172b"
      },
      "execution_count": 3,
      "outputs": []
    },
    {
      "cell_type": "code",
      "source": [
        "env = gym.make(\"Taxi-v3\",render_mode=\"human\")\n",
        "\n",
        "state_space = env.observation_space.n\n",
        "\n",
        "print(\"There are \",state_space,\"possible states\")\n",
        "\n",
        "action_space = env.action_space.n\n",
        "\n",
        "print(\"There are \", action_space, \"possible actions\")\n",
        "\n",
        "env.reset()\n",
        "env.s = 123\n",
        "\n",
        "env.render()"
      ],
      "metadata": {
        "colab": {
          "base_uri": "https://localhost:8080/"
        },
        "id": "kn0x3vyV2E6r",
        "outputId": "94ac1285-b13e-4a69-b6cc-a429bb467d48"
      },
      "execution_count": 4,
      "outputs": [
        {
          "output_type": "stream",
          "name": "stdout",
          "text": [
            "There are  500 possible states\n",
            "There are  6 possible actions\n"
          ]
        }
      ]
    },
    {
      "cell_type": "code",
      "source": [
        "class RandomAgent:\n",
        "    def __init__(self,env):\n",
        "        self.env=env\n",
        "    def get_action(self,state) -> int:\n",
        "        return self.env.action_space.sample()\n"
      ],
      "metadata": {
        "id": "x8tGnRdO2X_I"
      },
      "execution_count": 5,
      "outputs": []
    },
    {
      "cell_type": "code",
      "source": [
        "agent = RandomAgent(env)\n",
        "\n",
        "env.reset()\n",
        "state = 123\n",
        "env.s = state\n",
        "epochs = 0\n",
        "penalties = 0\n",
        "reward = 0\n",
        "frames_agent = []\n",
        "\n",
        "done = False\n"
      ],
      "metadata": {
        "id": "krlJskmT2cVR"
      },
      "execution_count": 6,
      "outputs": []
    },
    {
      "cell_type": "code",
      "source": [
        "while not done:\n",
        "\n",
        "    if done==False:\n",
        "\n",
        "\n",
        "        action = agent.get_action(state)\n",
        "\n",
        "\n",
        "        step_info = env.step(action)\n",
        "        next_state = step_info[0]\n",
        "        reward = step_info[1]\n",
        "        done = step_info[2]\n",
        "        info = step_info[3]\n",
        "\n",
        "        if reward == -10:\n",
        "            penalties += 1\n",
        "\n",
        "\n",
        "        frames_agent.append({\n",
        "            'frame': env.render(),\n",
        "            'state': next_state,\n",
        "            'action': action,\n",
        "            'reward': reward\n",
        "        })\n",
        "\n",
        "\n",
        "        epochs+=1\n",
        "\n",
        "\n",
        "    state = next_state\n",
        "\n",
        "print(\"Timesteps taken (Agent ): {}\".format(epochs))\n",
        "print(\"Penalties incurred (Agent): {}\".format(penalties))\n",
        "print(\"Rewards collected (Agent): {}\".format(reward))\n",
        "\n",
        "\n"
      ],
      "metadata": {
        "colab": {
          "base_uri": "https://localhost:8080/"
        },
        "id": "Y5zPVAaU2f68",
        "outputId": "583c07e4-11c6-4cfd-d96a-404cffa5960f"
      },
      "execution_count": 7,
      "outputs": [
        {
          "output_type": "stream",
          "name": "stdout",
          "text": [
            "Timesteps taken (Agent ): 1672\n",
            "Penalties incurred (Agent): 558\n",
            "Rewards collected (Agent): 20\n"
          ]
        }
      ]
    },
    {
      "cell_type": "markdown",
      "source": [
        "# **Agent Trained using Q-learning**"
      ],
      "metadata": {
        "id": "cdQaAayy88qi"
      }
    },
    {
      "cell_type": "code",
      "source": [
        "import gym\n",
        "env = gym.make(\"Taxi-v3\").env"
      ],
      "metadata": {
        "colab": {
          "base_uri": "https://localhost:8080/"
        },
        "id": "tvWpZtMB2jGZ",
        "outputId": "c6042d42-eeb3-46fe-db14-f96510dd2a9d"
      },
      "execution_count": 8,
      "outputs": [
        {
          "output_type": "stream",
          "name": "stderr",
          "text": [
            "/usr/local/lib/python3.10/dist-packages/gym/core.py:317: DeprecationWarning: \u001b[33mWARN: Initializing wrapper in old step API which returns one bool instead of two. It is recommended to set `new_step_api=True` to use new step API. This will be the default behaviour in future.\u001b[0m\n",
            "  deprecation(\n",
            "/usr/local/lib/python3.10/dist-packages/gym/wrappers/step_api_compatibility.py:39: DeprecationWarning: \u001b[33mWARN: Initializing environment in old step API which returns one bool instead of two. It is recommended to set `new_step_api=True` to use new step API. This will be the default behaviour in future.\u001b[0m\n",
            "  deprecation(\n"
          ]
        }
      ]
    },
    {
      "cell_type": "code",
      "source": [
        "import numpy as np\n",
        "\n",
        "class QAgent:\n",
        "\n",
        "    def __init__(self, env, alpha, gamma):\n",
        "        self.env = env\n",
        "\n",
        "\n",
        "        self.q_table = np.zeros([env.observation_space.n,\n",
        "                                 env.action_space.n])\n",
        "\n",
        "\n",
        "        self.alpha = alpha\n",
        "        self.gamma = gamma\n",
        "\n",
        "    def get_action(self, state):\n",
        "        \"\"\"\"\"\"\n",
        "        return np.argmax(self.q_table[state])\n",
        "\n",
        "    def update_parameters(self, state, action, reward, next_state):\n",
        "        \"\"\"\"\"\"\n",
        "\n",
        "        old_value = self.q_table[state, action]\n",
        "        next_max = np.max(self.q_table[next_state])\n",
        "        new_value = \\\n",
        "            old_value + \\\n",
        "            self.alpha * (reward + self.gamma * next_max - old_value)\n",
        "\n",
        "\n",
        "        self.q_table[state, action] = new_value"
      ],
      "metadata": {
        "id": "AYP8I83X5_P9"
      },
      "execution_count": 9,
      "outputs": []
    },
    {
      "cell_type": "code",
      "source": [
        "alpha = 0.1\n",
        "gamma = 0.6\n",
        "\n",
        "agent = QAgent(env, alpha, gamma)"
      ],
      "metadata": {
        "id": "TDzKIsBd6EYt"
      },
      "execution_count": 10,
      "outputs": []
    },
    {
      "cell_type": "code",
      "source": [
        "import random\n",
        "from tqdm import tqdm\n",
        "\n",
        "\n",
        "epsilon = 0.1\n",
        "\n",
        "n_episodes = 10000\n",
        "\n",
        "\n",
        "timesteps_per_episode = []\n",
        "penalties_per_episode = []\n",
        "\n",
        "\n",
        "for i in tqdm(range(0, n_episodes)):\n",
        "\n",
        "    state = env.reset()\n",
        "\n",
        "    epochs, penalties, reward, = 0, 0, 0\n",
        "    done = False\n",
        "\n",
        "    while not done:\n",
        "\n",
        "        if random.uniform(0, 1) < epsilon:\n",
        "\n",
        "            action = env.action_space.sample()\n",
        "        else:\n",
        "\n",
        "            action = agent.get_action(state)\n",
        "\n",
        "        next_state, reward, done, info = env.step(action)\n",
        "\n",
        "        agent.update_parameters(state, action, reward, next_state)\n",
        "\n",
        "        if reward == -10:\n",
        "            penalties += 1\n",
        "\n",
        "        state = next_state\n",
        "        epochs += 1\n",
        "\n",
        "    timesteps_per_episode.append(epochs)\n",
        "    penalties_per_episode.append(penalties)"
      ],
      "metadata": {
        "colab": {
          "base_uri": "https://localhost:8080/"
        },
        "id": "Zk5sxKWp6Hb5",
        "outputId": "4be76d38-101a-4607-fb94-aa5c2a9204f3"
      },
      "execution_count": 11,
      "outputs": [
        {
          "output_type": "stream",
          "name": "stderr",
          "text": [
            "100%|██████████| 10000/10000 [00:11<00:00, 843.04it/s]\n"
          ]
        }
      ]
    },
    {
      "cell_type": "code",
      "source": [
        "import pandas as pd\n",
        "import matplotlib.pyplot as plt\n",
        "\n",
        "fig, ax = plt.subplots(figsize = (12, 4))\n",
        "ax.set_title(\"Timesteps to complete ride\")\n",
        "pd.Series(timesteps_per_episode).plot(kind='line')\n",
        "plt.show()\n",
        "\n",
        "fig, ax = plt.subplots(figsize = (12, 4))\n",
        "ax.set_title(\"Penalties per ride\")\n",
        "pd.Series(penalties_per_episode).plot(kind='line')\n",
        "plt.show()"
      ],
      "metadata": {
        "colab": {
          "base_uri": "https://localhost:8080/",
          "height": 765
        },
        "id": "QPOmijTd6MxQ",
        "outputId": "e5b21ede-94b3-407f-fa49-4f326ecaaa88"
      },
      "execution_count": 12,
      "outputs": [
        {
          "output_type": "display_data",
          "data": {
            "text/plain": [
              "<Figure size 1200x400 with 1 Axes>"
            ],
            "image/png": "[encoded data removed]"
          },
          "metadata": {}
        },
        {
          "output_type": "display_data",
          "data": {
            "text/plain": [
              "<Figure size 1200x400 with 1 Axes>"
            ],
            "image/png": "[encoded data removed]"
          },
          "metadata": {}
        }
      ]
    },
    {
      "cell_type": "code",
      "source": [
        "import random\n",
        "from tqdm import tqdm\n",
        "\n",
        "\n",
        "epsilon = 0.05\n",
        "\n",
        "n_episodes = 1\n",
        "\n",
        "\n",
        "timesteps_per_episode = []\n",
        "penalties_per_episode = []\n",
        "\n",
        "\n",
        "for i in tqdm(range(0, n_episodes)):\n",
        "\n",
        "    state = env.reset()\n",
        "\n",
        "    epochs, penalties, reward, = 0, 0, 0\n",
        "    done = False\n",
        "\n",
        "    while not done:\n",
        "\n",
        "        if random.uniform(0, 1) < epsilon:\n",
        "\n",
        "            action = env.action_space.sample()\n",
        "        else:\n",
        "\n",
        "            action = agent.get_action(state)\n",
        "\n",
        "        next_state, reward, done, info = env.step(action)\n",
        "\n",
        "        if reward == -10:\n",
        "            penalties += 1\n",
        "\n",
        "        state = next_state\n",
        "        epochs += 1\n",
        "\n",
        "    timesteps_per_episode.append(epochs)\n",
        "    penalties_per_episode.append(penalties)"
      ],
      "metadata": {
        "colab": {
          "base_uri": "https://localhost:8080/"
        },
        "id": "MPMZ4Yyi6RcX",
        "outputId": "6953e579-9381-4348-a525-9ce0c8414487"
      },
      "execution_count": 13,
      "outputs": [
        {
          "output_type": "stream",
          "name": "stderr",
          "text": [
            "100%|██████████| 1/1 [00:00<00:00, 554.80it/s]\n"
          ]
        }
      ]
    },
    {
      "cell_type": "code",
      "source": [
        "print(f'Avg steps to complete ride: {np.array(timesteps_per_episode).mean()}')\n",
        "print(f'Avg penalties to complete ride: {np.array(penalties_per_episode).mean()}')"
      ],
      "metadata": {
        "colab": {
          "base_uri": "https://localhost:8080/"
        },
        "id": "Yu5Wv_uN6VUO",
        "outputId": "8b622ad4-850f-4985-f3d3-e2e8adb8c105"
      },
      "execution_count": 14,
      "outputs": [
        {
          "output_type": "stream",
          "name": "stdout",
          "text": [
            "Avg steps to complete ride: 23.0\n",
            "Avg penalties to complete ride: 1.0\n"
          ]
        }
      ]
    }
  ]
}